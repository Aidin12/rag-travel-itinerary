{
  "nbformat": 4,
  "nbformat_minor": 0,
  "metadata": {
    "colab": {
      "provenance": [],
      "gpuType": "T4",
      "authorship_tag": "ABX9TyOImP/fXIznm94Lv2+xEMP6",
      "include_colab_link": true
    },
    "kernelspec": {
      "name": "python3",
      "display_name": "Python 3"
    },
    "language_info": {
      "name": "python"
    },
    "accelerator": "GPU"
  },
  "cells": [
    {
      "cell_type": "markdown",
      "metadata": {
        "id": "view-in-github",
        "colab_type": "text"
      },
      "source": [
        "<a href=\"https://colab.research.google.com/github/Aidin12/rag-travel-itinerary/blob/main/RAG%2B%2B_Travel_Itinerary.ipynb\" target=\"_parent\"><img src=\"https://colab.research.google.com/assets/colab-badge.svg\" alt=\"Open In Colab\"/></a>"
      ]
    },
    {
      "cell_type": "markdown",
      "source": [
        "# - **RAG++** (Retrieval-Augmented Generation) concept: Combines data retrieval from APIs with GPT generation to create a personalized output.\n",
        "# - **GPT (OpenAI)**: Used to generate natural language itineraries.\n",
        "# - **OpenWeatherMap API**: To retrieve weather information for the destination.\n",
        "# - **Google Places API**: To retrieve information about popular places to visit."
      ],
      "metadata": {
        "id": "S0uWEoGMvh2R"
      }
    },
    {
      "cell_type": "code",
      "execution_count": null,
      "metadata": {
        "colab": {
          "base_uri": "https://localhost:8080/"
        },
        "id": "WI_gWJCWsw2n",
        "outputId": "d62a51a3-d883-45b0-87c3-dcd302da2abd"
      },
      "outputs": [
        {
          "output_type": "stream",
          "name": "stdout",
          "text": [
            "Requirement already satisfied: openai in /usr/local/lib/python3.10/dist-packages (1.54.4)\n",
            "Requirement already satisfied: anyio<5,>=3.5.0 in /usr/local/lib/python3.10/dist-packages (from openai) (3.7.1)\n",
            "Requirement already satisfied: distro<2,>=1.7.0 in /usr/local/lib/python3.10/dist-packages (from openai) (1.9.0)\n",
            "Requirement already satisfied: httpx<1,>=0.23.0 in /usr/local/lib/python3.10/dist-packages (from openai) (0.27.2)\n",
            "Requirement already satisfied: jiter<1,>=0.4.0 in /usr/local/lib/python3.10/dist-packages (from openai) (0.7.1)\n",
            "Requirement already satisfied: pydantic<3,>=1.9.0 in /usr/local/lib/python3.10/dist-packages (from openai) (2.9.2)\n",
            "Requirement already satisfied: sniffio in /usr/local/lib/python3.10/dist-packages (from openai) (1.3.1)\n",
            "Requirement already satisfied: tqdm>4 in /usr/local/lib/python3.10/dist-packages (from openai) (4.66.6)\n",
            "Requirement already satisfied: typing-extensions<5,>=4.11 in /usr/local/lib/python3.10/dist-packages (from openai) (4.12.2)\n",
            "Requirement already satisfied: idna>=2.8 in /usr/local/lib/python3.10/dist-packages (from anyio<5,>=3.5.0->openai) (3.10)\n",
            "Requirement already satisfied: exceptiongroup in /usr/local/lib/python3.10/dist-packages (from anyio<5,>=3.5.0->openai) (1.2.2)\n",
            "Requirement already satisfied: certifi in /usr/local/lib/python3.10/dist-packages (from httpx<1,>=0.23.0->openai) (2024.8.30)\n",
            "Requirement already satisfied: httpcore==1.* in /usr/local/lib/python3.10/dist-packages (from httpx<1,>=0.23.0->openai) (1.0.7)\n",
            "Requirement already satisfied: h11<0.15,>=0.13 in /usr/local/lib/python3.10/dist-packages (from httpcore==1.*->httpx<1,>=0.23.0->openai) (0.14.0)\n",
            "Requirement already satisfied: annotated-types>=0.6.0 in /usr/local/lib/python3.10/dist-packages (from pydantic<3,>=1.9.0->openai) (0.7.0)\n",
            "Requirement already satisfied: pydantic-core==2.23.4 in /usr/local/lib/python3.10/dist-packages (from pydantic<3,>=1.9.0->openai) (2.23.4)\n"
          ]
        }
      ],
      "source": [
        "\n",
        "\n",
        "# **Step 1: Set Up Your Environment**\n",
        "# Import the necessary libraries\n",
        "# 🚀 We'll need these libraries to handle API requests, JSON data, and the OpenAI language model.\n",
        "import requests  # To handle API requests to get travel data\n",
        "import json  # To parse JSON data from the APIs\n",
        "from openai import OpenAI  # To interact with GPT models\n",
        "import datetime  # To handle date operations\n",
        "\n",
        "# Install the required packages for Google Colab\n",
        "# 🛠 This will set up everything you need for your code.\n",
        "!pip install openai"
      ]
    },
    {
      "cell_type": "markdown",
      "source": [
        "[OPENWEATHERMAP](https://openweathermap.org/)\n",
        "[google places api](https://cloud.google.com)"
      ],
      "metadata": {
        "id": "g3RJs8Rg3u3T"
      }
    },
    {
      "cell_type": "code",
      "source": [
        "\n",
        "# **Step 2: Set Up Your API Keys**\n",
        "# Replace these keys with your actual keys from OpenWeatherMap and Google Places\n",
        "# 🛰 API keys are essential for accessing data from APIs. Get these keys by signing up on the respective API websites.\n",
        "OPENWEATHERMAP_API_KEY = \"PUT YOUR OPENWEATHERMAP API KEY\"  # API key for accessing OpenWeatherMap\n",
        "GOOGLE_PLACES_API_KEY = \"ENTER GOOGLE PLACES API HERE\"  # API key for accessing Google Places\n",
        "api_key = \"PASTE OPENAI API KEY\"  # API key for accessing OpenAI\n",
        "client = OpenAI(api_key=api_key)  # Setting up OpenAI API key to authenticate requests\n"
      ],
      "metadata": {
        "id": "LIFMtIbJtRrs"
      },
      "execution_count": null,
      "outputs": []
    },
    {
      "cell_type": "markdown",
      "source": [
        "The Google Places API is a service provided by Google that allows developers to integrate location-based functionalities into their applications. It provides access to a wide range of data about places such as businesses, landmarks, and points of interest. Here's a breakdown of what it offers:\n",
        "\n",
        "📌 What Can the Google Places API Do?  \n",
        "Search for Places:\n",
        "\n",
        "Perform text or keyword searches for places (e.g., \"restaurants near me\").\n",
        "Search within a specific geographic area using coordinates.  \n",
        "Retrieve Place Details:  \n",
        "\n",
        "Access detailed information about a place, including its name, address, phone number, reviews, and photos.  \n",
        "Autocomplete Search:  \n",
        "\n",
        "Enhance user experience by providing suggestions as users type in a search box.\n",
        "Geocoding and Reverse Geocoding:  \n",
        "\n",
        "Convert addresses into geographic coordinates or vice versa.  \n",
        "\n",
        "Nearby Places:  \n",
        "\n",
        "Find places within a given radius of a location (e.g., \"cafes within 5 km\").\n",
        "Place Photos:  \n",
        "\n",
        "Fetch photos associated with a place, like images of landmarks or storefronts.\n",
        "Place Reviews and Ratings:  \n",
        "\n",
        "Access user-generated reviews and ratings for a specific place.\n"
      ],
      "metadata": {
        "id": "mydqbePa2UIz"
      }
    },
    {
      "cell_type": "code",
      "source": [
        "# **Step 3: Get User Preferences**\n",
        "# 👨‍✈️ Let's collect the user input to personalize the itinerary.\n",
        "# We use input statements to gather user preferences such as destination, travel dates, activities, and budget.\n",
        "print(\"Please enter your travel preferences below:\")  # Prompt user to enter travel preferences\n",
        "destination = input(\"🌍 Destination: \")  # Get the destination city from the user\n",
        "dates = input(\"📅 Travel dates (e.g., 2024-12-01 to 2024-12-05): \")  # Get the travel dates from the user\n",
        "activities = input(\"🏃 Preferred activities (e.g., historical, adventure, beaches): \")  # Get preferred activities\n",
        "budget = input(\"💸 Budget per day: \")  # Get budget per day from the user"
      ],
      "metadata": {
        "colab": {
          "base_uri": "https://localhost:8080/"
        },
        "id": "LTZv3PyUtRzb",
        "outputId": "c04aa00e-ad1d-4a38-cc1d-c769d5d7474f"
      },
      "execution_count": null,
      "outputs": [
        {
          "name": "stdout",
          "output_type": "stream",
          "text": [
            "Please enter your travel preferences below:\n",
            "🌍 Destination: Brussels, Be\n",
            "📅 Travel dates (e.g., 2024-12-01 to 2024-12-05): 2024-12-01 to 2024-12-05\n",
            "🏃 Preferred activities (e.g., historical, adventure, beaches): waffles, mussels, art, beer, views of the city, museums\n",
            "💸 Budget per day: 100\n"
          ]
        }
      ]
    },
    {
      "cell_type": "code",
      "source": [
        "\n",
        "# **Step 4: Retrieve Data Using APIs**\n",
        "# Define a function to get weather data using OpenWeatherMap API\n",
        "# 🌤 The weather data will help us determine if certain activities are suitable.\n",
        "def get_weather_data(city):\n",
        "    # Construct the URL for the OpenWeatherMap API using the city name and API key\n",
        "    url = f\"https://api.openweathermap.org/data/2.5/weather?q={city}&appid={OPENWEATHERMAP_API_KEY}&units=metric\"\n",
        "\n",
        "    # Send a GET request to the API URL\n",
        "    response = requests.get(url)\n",
        "\n",
        "    # Debugging: print status code and response content\n",
        "    print(f\"Request URL: {url}\")\n",
        "    print(f\"Response Status Code: {response.status_code}\")\n",
        "    print(f\"Response Content: {response.text}\")\n",
        "\n",
        "    # Check if the response is successful (status code 200)\n",
        "    if response.status_code == 200:\n",
        "        # Parse the response JSON and extract necessary weather information\n",
        "        weather_data = response.json()\n",
        "        return {\n",
        "            \"description\": weather_data['weather'][0]['description'],  # Weather description (e.g., \"clear sky\")\n",
        "            \"temperature\": weather_data['main']['temp']  # Temperature in Celsius\n",
        "        }\n",
        "    else:\n",
        "        # Provide detailed error message based on the status code\n",
        "        if response.status_code == 401:\n",
        "            print(\"Error: Unauthorized. Please check your API key.\")\n",
        "        elif response.status_code == 404:\n",
        "            print(f\"Error: City '{city}' not found. Please check the spelling.\")\n",
        "        elif response.status_code == 429:\n",
        "            print(\"Error: Too many requests. You may have hit the rate limit for your API key.\")\n",
        "        else:\n",
        "            print(f\"Error: Unable to fetch weather data. Status Code: {response.status_code}, Response: {response.text}\")\n",
        "        return None\n"
      ],
      "metadata": {
        "id": "SmasF-3xtR6X"
      },
      "execution_count": null,
      "outputs": []
    },
    {
      "cell_type": "code",
      "source": [
        "\n",
        "# **Step 5: Get Data on Popular Places**\n",
        "# Use Google Places API to get information about popular tourist attractions.\n",
        "# 🗺 We'll retrieve this data and present it in the itinerary later.\n",
        "def get_places_data(city, activity_type):\n",
        "      # Define mappings for better results\n",
        "    activity_mapping = {\n",
        "        \"waffles\": \"cafés or dessert shops\",\n",
        "        \"scooters\": \"scooter rentals or bike rentals\",\n",
        "        \"art\": \"art galleries or museums\"\n",
        "    }\n",
        "\n",
        "    # Map the user activity input to a more appropriate query\n",
        "    mapped_activity = activity_mapping.get(activity_type.lower(), activity_type)\n",
        "\n",
        "    # Construct the URL for Google Places API using the city, activity type, and API key\n",
        "    url = f\"https://maps.googleapis.com/maps/api/place/textsearch/json?query={activity_type}+in+{city}&key={GOOGLE_PLACES_API_KEY}\"\n",
        "    # Send a GET request to the API URL\n",
        "    response = requests.get(url)\n",
        "    # Check if the response is successful (status code 200)\n",
        "    if response.status_code == 200:\n",
        "        # Parse the response JSON and extract relevant place information\n",
        "        places_data = response.json()\n",
        "        places = []\n",
        "        for place in places_data['results'][:5]:  # Limit results to the top 5 places\n",
        "            places.append({\n",
        "                \"name\": place['name'],  # Name of the place\n",
        "                \"address\": place['formatted_address'],  # Address of the place\n",
        "                \"rating\": place.get('rating', 'No rating available')  # Rating of the place, if available\n",
        "            })\n",
        "        return places  # Return the list of places\n",
        "    else:\n",
        "        # Return None if the request was unsuccessful\n",
        "        return None\n"
      ],
      "metadata": {
        "id": "KD9Qeu1E5u2b"
      },
      "execution_count": null,
      "outputs": []
    },
    {
      "cell_type": "code",
      "source": [
        "\n",
        "# **Step 6: Use GPT to Generate an Itinerary**\n",
        "# 🧑‍💻 This is where we put it all together. We use GPT to generate a natural language itinerary using the gathered data.\n",
        "def promptGPT(prompt, model, system_requirements):\n",
        "    # Imagine GPT-4 is your creative writing buddy. You give it a prompt, and it comes up with a cool story idea.\n",
        "    response = client.chat.completions.create(\n",
        "        # The client.chat.completions.create function in the OpenAI API allows you to generate AI responses by providing a sequence of messages that simulate a conversation.\n",
        "        model=model,\n",
        "        messages=[\n",
        "            {\"role\": \"system\", \"content\": system_requirements},  # Setting the personality of the assistant, like saying \"You're a storyteller.\"\n",
        "            {\"role\": \"user\", \"content\": prompt}  # Providing the specific question or task, like a user asking to continue the story.\n",
        "        ]\n",
        "    )\n",
        "    # Extracting the generated text from the response\n",
        "    # Think of the response like a letter from GPT with the story written inside. We just need to open it and read it.\n",
        "    return response.choices[0].message.content.strip()"
      ],
      "metadata": {
        "id": "WmwcPfZP5u-R"
      },
      "execution_count": null,
      "outputs": []
    },
    {
      "cell_type": "code",
      "source": [
        "# **Step 7: Get the Data for User Input**\n",
        "# 🚀 Now we gather weather and places data using the functions we wrote earlier.\n",
        "weather_info = get_weather_data(destination)  # Get weather information for the destination\n",
        "places_info = get_places_data(destination, activities)  # Get information about popular places to visit\n"
      ],
      "metadata": {
        "colab": {
          "base_uri": "https://localhost:8080/"
        },
        "id": "zorUHJZM53QU",
        "outputId": "6af19af9-7b9e-45ce-c78f-b6c4c0744ae2"
      },
      "execution_count": null,
      "outputs": [
        {
          "output_type": "stream",
          "name": "stdout",
          "text": [
            "Request URL: https://api.openweathermap.org/data/2.5/weather?q=Brussels, Be&appid=86c8800f5907e1ec96365305a2e0359f&units=metric\n",
            "Response Status Code: 200\n",
            "Response Content: {\"coord\":{\"lon\":4.3488,\"lat\":50.8504},\"weather\":[{\"id\":803,\"main\":\"Clouds\",\"description\":\"broken clouds\",\"icon\":\"04n\"}],\"base\":\"stations\",\"main\":{\"temp\":6.82,\"feels_like\":3.55,\"temp_min\":6.01,\"temp_max\":7.58,\"pressure\":1020,\"humidity\":87,\"sea_level\":1020,\"grnd_level\":1017},\"visibility\":10000,\"wind\":{\"speed\":5.14,\"deg\":270},\"clouds\":{\"all\":75},\"dt\":1732750865,\"sys\":{\"type\":1,\"id\":1227,\"country\":\"BE\",\"sunrise\":1732778365,\"sunset\":1732808539},\"timezone\":3600,\"id\":2800866,\"name\":\"Brussels\",\"cod\":200}\n"
          ]
        }
      ]
    },
    {
      "cell_type": "code",
      "source": [
        "# **Step 8: Generate and Print the Itinerary**\n",
        "# 🗺 Now, we bring it all together and generate a final itinerary for the user.\n",
        "if weather_info and places_info:\n",
        "    # Generate the travel itinerary based on user preferences, weather info, and places info\n",
        "    system_requirements = \"You are a travel assistant who is very friendly and informative.\"\n",
        "    prompt = f\"You are a travel guide. Create a detailed 3-day travel itinerary for {destination}.\\n\\n\"\n",
        "    # Add weather information to the prompt if available\n",
        "    if weather_info:\n",
        "        prompt += f\"The weather in {destination} is currently {weather_info['description']} with a temperature of {weather_info['temperature']} degrees Celsius.\\n\\n\"\n",
        "    # Add information about places to visit\n",
        "    prompt += \"Places to visit include:\\n\"\n",
        "    for place in places_info:\n",
        "        prompt += f\"- {place['name']}, located at {place['address']}, has a rating of {place['rating']}\\n\"\n",
        "    prompt += \"\\nPlease generate a daily plan for the traveler.\"\n",
        "\n",
        "    # Use promptGPT function to generate the itinerary\n",
        "    itinerary = promptGPT(prompt, \"gpt-4\", system_requirements)\n",
        "    # Print the personalized travel itinerary\n",
        "    print(\"\\n📍 Your Personalized Travel Itinerary:\\n\")\n",
        "    print(itinerary)\n",
        "else:\n",
        "    # Print an error message if any of the required data couldn't be retrieved\n",
        "    if weather_info is None:\n",
        "        print(\"Sorry, we're having trouble fetching the weather information. Please check the city name or your API key.\")\n",
        "    if places_info is None:\n",
        "        print(\"Sorry, we're having trouble fetching the places information. Please check the activity type or your API key.\")\n"
      ],
      "metadata": {
        "colab": {
          "base_uri": "https://localhost:8080/"
        },
        "id": "trJnEvy96k1y",
        "outputId": "99e106ae-fb12-4ae5-d967-3cff55abcb66"
      },
      "execution_count": null,
      "outputs": [
        {
          "output_type": "stream",
          "name": "stdout",
          "text": [
            "\n",
            "📍 Your Personalized Travel Itinerary:\n",
            "\n",
            "Day 1:\n",
            "Kick start your first day in Brussels, Be.\n",
            "\n",
            "9:00 - 10:00 AM - Breakfast at your hotel\n",
            "\n",
            "10:30 AM - 12:30 PM - Visit the Royal Museums of Fine Arts of Belgium. Explore this home of 20,000 drawings, sculptures, and paintings, from the early 15th century to the present. \n",
            "\n",
            "12:30 - 2:00 PM - Have a delightful lunch at Chez Leon, located at Rue des Bouchers 18, known for its traditional Belgian cuisine.\n",
            "\n",
            "2:30 - 5:00 PM - Head to Belgian Brewers Museum. Spend some time learning about Belgium's brewing heritage, take a self-guided tour through the museum and end your visit with a tasting of a traditional Belgian beer.\n",
            "\n",
            "7:00 PM – Enjoy a nice dinner at Bia Mara Brussels, known for its excellent seafood dishes.\n",
            "\n",
            "Day 2:\n",
            "\n",
            "9:00 - 10:00 AM - Enjoy your breakfast at your hotel.\n",
            "\n",
            "10:30 AM - 12:00 PM - Begin your day with a visit to Mount of the Arts, a cultural hub with stunning views where you can find a complex of art-related museums and buildings.\n",
            "\n",
            "12:30 - 2:00 PM - Lunch at Le Pré Salé, a local restaurant known for their mussels and fries.\n",
            "\n",
            "2:30 - 5:30 PM - Now be ready to experience a tasteful adventure at the Brussels Waffle Workshop. Enjoy learning how to make the famous Belgian waffles and also tasting them.\n",
            "\n",
            "7:00 PM - Have a wonderful dinner at Fin de Siècle, a restaurant famous for its Belgian dishes.\n",
            "\n",
            "Day 3:\n",
            "\n",
            "9:00 - 10:00 AM - Start your day with a breakfast at your hotel.\n",
            "\n",
            "10:30 AM - 1:00 PM - Set off for the Design Museum Brussels. Benefit from an exploration of the relationship between design, society, and the many challenges arising from the mass production of everyday objects.\n",
            "\n",
            "1:00 - 2:30 - Lunch at L'horloge du sud, a restaurant known for their exquisite Moroccan cuisine.\n",
            "\n",
            "4:00 PM - Shop for souvenirs, explore the beautiful streets of Brussels on your own or rest at your hotel.\n",
            "\n",
            "7:00 PM - Last night in the city calls for a remarkable dinner at Comme chez Soi, a Michelin Star restaurant with a unique dining experience.\n",
            "\n",
            "Always carry a raincoat and an umbrella as the weather in Brussels can be unpredictable. Enjoy your trip!\n",
            "\n",
            "This itinerary is flexible. Individual travelers might want to spend more or less time at each location. Always check the opening hours of the places you wish to visit in advance and book guided tours where needed!\n"
          ]
        }
      ]
    },
    {
      "cell_type": "markdown",
      "source": [
        "Going a bit further......\n",
        "The output is more contextually aware and responsive to the user's environment.\n",
        "Users get to know why certain activities are being suggested, which makes the itinerary more helpful and trustworthy.\n",
        "This feature makes your itinerary more practical and realistic—ensuring the user enjoys the trip no matter the weather! 😊☀️🌧️\n",
        "\n",
        "Key Enhancements:\n",
        "Weather-Based Activity Filtering:\n",
        "\n",
        "The function is_weather_good_for_outdoors() checks the weather description and temperature to determine if it's suitable for outdoor activities.\n",
        "Dynamic Activity Selection:\n",
        "\n",
        "When bad weather is detected, the generator filters out outdoor activities.\n",
        "This is done by using a conditional check to include only indoor activities when the weather is poor.\n",
        "Itinerary Output with Recommendations:\n",
        "\n",
        "Each activity includes additional information to indicate why it was chosen:\n",
        "If it's an indoor activity and the weather is bad: \"Recommended due to current weather conditions\".\n",
        "If it's an outdoor activity and the weather is good: \"Enjoyable given the current good weather conditions\".\n",
        "Dynamic Mapping of User Activities:\n",
        "\n",
        "A mapping dictionary (activity_type_mapping) is used to determine if an activity is \"indoor\" or \"outdoor\".\n",
        "This allows more accurate recommendations based on the weather."
      ],
      "metadata": {
        "id": "VKHKSaybBRwI"
      }
    },
    {
      "cell_type": "code",
      "source": [
        "activity_type_mapping = {\n",
        "    \"waffles\": \"indoor\",\n",
        "    \"scooters\": \"outdoor\",\n",
        "    \"art\": \"indoor\",\n",
        "    \"historical\": \"outdoor\",\n",
        "    \"museums\": \"indoor\",\n",
        "    \"parks\": \"outdoor\",\n",
        "    \"cafes\": \"indoor\"\n",
        "}\n"
      ],
      "metadata": {
        "id": "QKQ9Z7dSA6CA"
      },
      "execution_count": null,
      "outputs": []
    },
    {
      "cell_type": "code",
      "source": [
        "# Determine whether the weather is suitable for outdoor activities\n",
        "def is_weather_good_for_outdoors(weather_description, temperature):\n",
        "    bad_weather_conditions = [\"rain\", \"thunderstorm\", \"snow\", \"drizzle\"]\n",
        "    # If any bad condition is mentioned in the weather description, consider it bad weather\n",
        "    if any(condition in weather_description.lower() for condition in bad_weather_conditions):\n",
        "        return False\n",
        "    # Consider temperatures below 5°C or above 35°C as unsuitable for outdoor activities\n",
        "    if temperature < 5 or temperature > 35:\n",
        "        return False\n",
        "    return True\n",
        "\n",
        "# **Step 8: Generate and Print the Itinerary**\n",
        "# 🗺 Now, we bring it all together and generate a final itinerary for the user.\n",
        "if weather_info and places_info:\n",
        "    # Determine if the weather is good for outdoor activities\n",
        "    is_good_weather = is_weather_good_for_outdoors(weather_info['description'], weather_info['temperature'])\n",
        "\n",
        "    # Generate the travel itinerary based on user preferences, weather info, and places info\n",
        "    system_requirements = \"You are a travel assistant who is very friendly and informative.\"\n",
        "    prompt = f\"You are a travel guide. Create a detailed 3-day travel itinerary for {destination}.\\n\\n\"\n",
        "\n",
        "    # Add weather information to the prompt if available\n",
        "    if weather_info:\n",
        "        prompt += f\"The weather in {destination} is currently {weather_info['description']} with a temperature of {weather_info['temperature']} degrees Celsius.\\n\\n\"\n",
        "\n",
        "    # Add information about places to visit based on weather suitability\n",
        "    prompt += \"Places to visit include:\\n\"\n",
        "    for place in places_info:\n",
        "        activity_name = place['name'].lower()\n",
        "        activity_type = activity_type_mapping.get(activity_name, \"unknown\")  # Check if we have the activity type in our mapping\n",
        "\n",
        "        # Skip outdoor activities if the weather is bad\n",
        "        if not is_good_weather and activity_type == \"outdoor\":\n",
        "            continue\n",
        "\n",
        "        # Add activity to the prompt\n",
        "        prompt += f\"- {place['name']}, located at {place['address']}, has a rating of {place['rating']}\\n\"\n",
        "        # Indicate if it's recommended due to indoor/outdoor suitability\n",
        "        if activity_type == \"indoor\" and not is_good_weather:\n",
        "            prompt += \"  (Recommended due to current weather conditions)\\n\"\n",
        "        elif activity_type == \"outdoor\" and is_good_weather:\n",
        "            prompt += \"  (Enjoyable given the current good weather conditions)\\n\"\n",
        "\n",
        "    prompt += \"\\nPlease generate a daily plan for the traveler, considering the suitability of each activity based on the weather conditions.\"\n",
        "\n",
        "    # Use promptGPT function to generate the itinerary\n",
        "    itinerary = promptGPT(prompt, \"gpt-4\", system_requirements)\n",
        "    # Print the personalized travel itinerary\n",
        "    print(\"\\n📍 Your Personalized Travel Itinerary:\\n\")\n",
        "    print(itinerary)\n",
        "else:\n",
        "    # Print an error message if any of the required data couldn't be retrieved\n",
        "    if weather_info is None:\n",
        "        print(\"Sorry, we're having trouble fetching the weather information. Please check the city name or your API key.\")\n",
        "    if places_info is None:\n",
        "        print(\"Sorry, we're having trouble fetching the places information. Please check the activity type or your API key.\")\n"
      ],
      "metadata": {
        "colab": {
          "base_uri": "https://localhost:8080/"
        },
        "id": "YMwH7TDVA260",
        "outputId": "3e3f281e-9683-425e-f110-da4579cd5f80"
      },
      "execution_count": null,
      "outputs": [
        {
          "output_type": "stream",
          "name": "stdout",
          "text": [
            "\n",
            "📍 Your Personalized Travel Itinerary:\n",
            "\n",
            "Sure, here is a sample travel itinerary for 3 days in Brussels, Belgium:\n",
            "\n",
            "**Day 1: The Artistic Journey**\n",
            "- Start your first day with a visit to the *Mount of the Arts*. Take in the beautiful cityscape views and indulge your senses in a variety of art installation or sculptures located amidst its gardens. Given the current temperature and cloudy skies, roaming around this outdoor place should be a pleasant experience.\n",
            "- Right from *Mount of the Arts*, head to the *Royal Museums of Fine Arts of Belgium*. Here, you can explore a massive collection of artworks and historical artifacts. As this is in an indoor location, the weather conditions will not affect your visit.\n",
            "- After a long day of walking, treat yourself to Brussels' Gourmet delight. Join the Brussels Waffle Workshop and treat your senses to the heavenly taste of freshly made Belgian waffles. Again, being an indoor activity, the weather plays no significant role.\n",
            "\n",
            "**Day 2: Trace the History**\n",
            "- Start the second day with a visit to the *Belgian Brewers Museum*. Discover the history and culture of beer, particularly in Belgium, where it is an integral part of the country's cultural fabric. Given that the museum is indoors, the cool weather will not be a hindrance.\n",
            "- After a beer-filled morning, spend the afternoon exploring the Grand Place, where the museum is located. This grand, majestic plaza is a sight to marvel. The weather, if not raining, adds to the charm of this place.\n",
            " \n",
            "**Day 3: Dive into the Modern Designs**\n",
            "- Spend your last day at the *Design Museum Brussels*, immersing yourself in the world of contemporary design. Explore exhibitions showcasing the evolution and diversity of design. The indoor location of the museum shields from the temperature outside and lets you enjoy regardless of the weather outside.\n",
            "- Later, visit the *Belgiëplein*. It's a nice local neighborhood with an array of shopping and dining options. It might seem colder if you choose to stay outside, so we would recommend finding a cozy cafe or restaurant where you can relax.\n",
            "\n",
            "Throughout your trip, remember to dress in layers and keep an umbrella handy in case of rain interruptions. Enjoy your trip!\n"
          ]
        }
      ]
    }
  ]
}